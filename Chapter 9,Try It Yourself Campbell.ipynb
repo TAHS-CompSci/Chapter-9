{
 "cells": [
  {
   "cell_type": "code",
   "execution_count": null,
   "metadata": {},
   "outputs": [],
   "source": [
    "9-1"
   ]
  },
  {
   "cell_type": "code",
   "execution_count": 37,
   "metadata": {},
   "outputs": [],
   "source": [
    "class Restaurant():   \n",
    "        \n",
    "    def __init__(self, resturant_name, cuisine_type): \n",
    "        self.name = resturant_name        \n",
    "        self.menu = cuisine_type  \n",
    "        \n",
    "    def open(self):       \n",
    "        print(self.name.title() + \" is now open.\")"
   ]
  },
  {
   "cell_type": "code",
   "execution_count": 36,
   "metadata": {},
   "outputs": [
    {
     "name": "stdout",
     "output_type": "stream",
     "text": [
      "We Are Called Huberta.\n",
      "Our Menu has Onion.\n"
     ]
    }
   ],
   "source": [
    "Huberta = Restaurant(' Huberta', 'Onion')\n",
    "\n",
    "print(\"We Are Called\"  +  Huberta.name.title() + \".\") \n",
    "print(\"Our Menu has \" + str(Huberta.menu) + \".\")"
   ]
  },
  {
   "cell_type": "code",
   "execution_count": null,
   "metadata": {},
   "outputs": [],
   "source": [
    "9-2"
   ]
  },
  {
   "cell_type": "code",
   "execution_count": 34,
   "metadata": {},
   "outputs": [],
   "source": [
    "class restaurants():   \n",
    "        \n",
    "    def __init__(self, name, definition):\n",
    "        self.name = name\n",
    "        self.de = definition\n",
    "        \n",
    "Huberta = restaurants('Huberta:','Small Spanish Food Stop')\n",
    "Micheal = restaurants('Micheal Meats:','Butchery Ran By The Micheal Meats')\n",
    "Fertelizies = restaurants('Fertlizies Pizzaria:','Closed due to fraud')\n",
    "\n"
   ]
  },
  {
   "cell_type": "code",
   "execution_count": 35,
   "metadata": {},
   "outputs": [
    {
     "ename": "AttributeError",
     "evalue": "type object 'restaurants' has no attribute 'name'",
     "output_type": "error",
     "traceback": [
      "\u001b[1;31m---------------------------------------------------------------------------\u001b[0m",
      "\u001b[1;31mAttributeError\u001b[0m                            Traceback (most recent call last)",
      "\u001b[1;32m<ipython-input-35-f69b738b9432>\u001b[0m in \u001b[0;36m<module>\u001b[1;34m\u001b[0m\n\u001b[1;32m----> 1\u001b[1;33m \u001b[0mprint\u001b[0m\u001b[1;33m(\u001b[0m\u001b[0mrestaurants\u001b[0m\u001b[1;33m.\u001b[0m\u001b[0mname\u001b[0m\u001b[1;33m.\u001b[0m\u001b[0mtitle\u001b[0m\u001b[1;33m(\u001b[0m\u001b[1;33m)\u001b[0m \u001b[1;33m+\u001b[0m \u001b[0mrestaurants\u001b[0m\u001b[1;33m.\u001b[0m\u001b[0mdefinition\u001b[0m\u001b[1;33m.\u001b[0m\u001b[0mtitle\u001b[0m\u001b[1;33m(\u001b[0m\u001b[1;33m)\u001b[0m \u001b[1;33m+\u001b[0m \u001b[1;34m'!'\u001b[0m\u001b[1;33m)\u001b[0m\u001b[1;33m\u001b[0m\u001b[1;33m\u001b[0m\u001b[0m\n\u001b[0m",
      "\u001b[1;31mAttributeError\u001b[0m: type object 'restaurants' has no attribute 'name'"
     ]
    }
   ],
   "source": [
    "print(restaurants.name.title() + restaurants.definition.title() + '!')"
   ]
  },
  {
   "cell_type": "code",
   "execution_count": null,
   "metadata": {},
   "outputs": [],
   "source": [
    "9-3"
   ]
  },
  {
   "cell_type": "code",
   "execution_count": 30,
   "metadata": {},
   "outputs": [],
   "source": [
    "class User():\n",
    "    \n",
    "    def __init__(self, first_name, last_name):\n",
    "        self.fn = first_name\n",
    "        self.ln = last_name\n",
    "        \n",
    "    def describe_self(self):\n",
    "        print(self.fn.title() + self.ln.title() + \"is a user of this site!\")\n",
    "    \n",
    "    def greet_user(self):\n",
    "        print(\"Thanks For Coming\" + self.fn.title() + self.ln.title() + '!') "
   ]
  },
  {
   "cell_type": "code",
   "execution_count": 31,
   "metadata": {},
   "outputs": [],
   "source": [
    "Dan = User('Dan','Man')\n",
    "Jan = User('Jan','Jhan')\n",
    "Han = User('Han','Wolfeschlegelsteinhausenbergerdorff')\n",
    "\n"
   ]
  },
  {
   "cell_type": "code",
   "execution_count": 32,
   "metadata": {},
   "outputs": [
    {
     "ename": "NameError",
     "evalue": "name 'self' is not defined",
     "output_type": "error",
     "traceback": [
      "\u001b[1;31m---------------------------------------------------------------------------\u001b[0m",
      "\u001b[1;31mNameError\u001b[0m                                 Traceback (most recent call last)",
      "\u001b[1;32m<ipython-input-32-c7ffe6ed70e5>\u001b[0m in \u001b[0;36m<module>\u001b[1;34m\u001b[0m\n\u001b[1;32m----> 1\u001b[1;33m \u001b[0mprint\u001b[0m\u001b[1;33m(\u001b[0m\u001b[0mself\u001b[0m\u001b[1;33m.\u001b[0m\u001b[0mfn\u001b[0m\u001b[1;33m.\u001b[0m\u001b[0mtitle\u001b[0m\u001b[1;33m(\u001b[0m\u001b[1;33m)\u001b[0m \u001b[1;33m+\u001b[0m \u001b[0mself\u001b[0m\u001b[1;33m.\u001b[0m\u001b[0mln\u001b[0m\u001b[1;33m.\u001b[0m\u001b[0mtitle\u001b[0m\u001b[1;33m(\u001b[0m\u001b[1;33m)\u001b[0m \u001b[1;33m+\u001b[0m \u001b[1;34m\"is a user of this site!\"\u001b[0m\u001b[1;33m)\u001b[0m\u001b[1;33m\u001b[0m\u001b[1;33m\u001b[0m\u001b[0m\n\u001b[0m\u001b[0;32m      2\u001b[0m \u001b[0mprint\u001b[0m\u001b[1;33m(\u001b[0m\u001b[1;34m\"Thanks For Coming\"\u001b[0m \u001b[1;33m+\u001b[0m \u001b[0mself\u001b[0m\u001b[1;33m.\u001b[0m\u001b[0mfn\u001b[0m\u001b[1;33m.\u001b[0m\u001b[0mtitle\u001b[0m\u001b[1;33m(\u001b[0m\u001b[1;33m)\u001b[0m \u001b[1;33m+\u001b[0m \u001b[0mself\u001b[0m\u001b[1;33m.\u001b[0m\u001b[0mln\u001b[0m\u001b[1;33m.\u001b[0m\u001b[0mtitle\u001b[0m\u001b[1;33m(\u001b[0m\u001b[1;33m)\u001b[0m \u001b[1;33m+\u001b[0m \u001b[1;34m'!'\u001b[0m\u001b[1;33m)\u001b[0m\u001b[1;33m\u001b[0m\u001b[1;33m\u001b[0m\u001b[0m\n",
      "\u001b[1;31mNameError\u001b[0m: name 'self' is not defined"
     ]
    }
   ],
   "source": [
    "print(self.fn.title() + self.ln.title() + \"is a user of this site!\")\n",
    "print(\"Thanks For Coming\" + self.fn.title() + self.ln.title() + '!') "
   ]
  },
  {
   "cell_type": "code",
   "execution_count": null,
   "metadata": {},
   "outputs": [],
   "source": [
    "9-4"
   ]
  },
  {
   "cell_type": "code",
   "execution_count": 25,
   "metadata": {},
   "outputs": [
    {
     "name": "stdout",
     "output_type": "stream",
     "text": [
      "We Are Called Huberta.\n",
      "Our Menu has Onion.\n"
     ]
    }
   ],
   "source": [
    "class Restaurant():   \n",
    "        \n",
    "    def __init__(self, resturant_name, cuisine_type): \n",
    "        self.name = resturant_name        \n",
    "        self.menu = cuisine_type  \n",
    "        self.served= 0\n",
    "        \n",
    "    def read_served(self):              \n",
    "        print(\"This Restaurant Has Served \" + str(self.served) + \" People!\")    \n",
    "    \n",
    "    def update_served(self, served): \n",
    "        if served >= self.served:\n",
    "            self.serve = served\n",
    "        else:\n",
    "            print(\"No One Has Been Surved\")\n",
    "            \n",
    "    def increment_served(self, surved):  \n",
    "        self.served += surved\n",
    "    \n",
    "    def open(self):       \n",
    "        print(self.name.title() + \" is now open.\")\n",
    "        \n",
    "Huberta = Restaurant(' Huberta', 'Onion',)\n",
    "\n",
    "print(\"We Are Called\"  +  Huberta.name.title() + \".\") \n",
    "print(\"Our Menu has \" + str(Huberta.menu) + \".\")\n",
    "\n",
    "Huberta.update_served(48)\n",
    "\n",
    "\n",
    "Huberta.increment_served(19) \n"
   ]
  },
  {
   "cell_type": "code",
   "execution_count": null,
   "metadata": {},
   "outputs": [],
   "source": [
    "9-5"
   ]
  },
  {
   "cell_type": "code",
   "execution_count": 24,
   "metadata": {},
   "outputs": [],
   "source": [
    "class User():\n",
    "    \n",
    "    def __init__(self, first_name, last_name):\n",
    "        self.fn = first_name\n",
    "        self.ln = last_name\n",
    "        self.attempts = 0\n",
    "    def describe_self(self):\n",
    "        print(self.fn.title() + self.ln.title() + \"is a user of this site!\")\n",
    "    \n",
    "    def greet_user(self):\n",
    "        print(\"Thanks For Coming\" + self.fn.title() + self.ln.title() + '!') \n",
    "        \n",
    "    def login_attempts(self, attempts):\n",
    "        if attempts >= self.attempts:\n",
    "            self.attempts = +1\n",
    "        else:\n",
    "            self.attempts = 0"
   ]
  },
  {
   "cell_type": "code",
   "execution_count": null,
   "metadata": {},
   "outputs": [],
   "source": [
    "9-6"
   ]
  },
  {
   "cell_type": "code",
   "execution_count": 3,
   "metadata": {},
   "outputs": [],
   "source": [
    "class Restaurant():   \n",
    "        \n",
    "    def __init__(self, resturant_name, cuisine_type): \n",
    "        self.name = resturant_name        \n",
    "        self.menu = cuisine_type  \n",
    "        \n",
    "    def open(self):       \n",
    "        print(self.name.title() + \" is now open.\")\n",
    "        \n",
    "class IceCreamStand():\n",
    "    def __init__(self, flavors):\n",
    "        super().__init__(flavors)\n",
    "        self.fla = flavores\n",
    "            \n",
    "Flavors = { \n",
    "    'Vanilla', \n",
    "    'cream',\n",
    "    'Potsden', \n",
    "    'Moka'}\n",
    "           \n"
   ]
  },
  {
   "cell_type": "code",
   "execution_count": 4,
   "metadata": {},
   "outputs": [
    {
     "ename": "AttributeError",
     "evalue": "type object 'IceCreamStand' has no attribute 'flavors'",
     "output_type": "error",
     "traceback": [
      "\u001b[1;31m---------------------------------------------------------------------------\u001b[0m",
      "\u001b[1;31mAttributeError\u001b[0m                            Traceback (most recent call last)",
      "\u001b[1;32m<ipython-input-4-7eae691271f2>\u001b[0m in \u001b[0;36m<module>\u001b[1;34m\u001b[0m\n\u001b[1;32m----> 1\u001b[1;33m \u001b[0mIceCreamStand\u001b[0m\u001b[1;33m.\u001b[0m\u001b[0mflavors\u001b[0m\u001b[1;33m.\u001b[0m\u001b[0mtitle\u001b[0m\u001b[1;33m(\u001b[0m\u001b[1;33m)\u001b[0m\u001b[1;33m\u001b[0m\u001b[1;33m\u001b[0m\u001b[0m\n\u001b[0m",
      "\u001b[1;31mAttributeError\u001b[0m: type object 'IceCreamStand' has no attribute 'flavors'"
     ]
    }
   ],
   "source": [
    "IceCreamStand.flavors.title()"
   ]
  },
  {
   "cell_type": "code",
   "execution_count": null,
   "metadata": {},
   "outputs": [],
   "source": [
    "9-7"
   ]
  },
  {
   "cell_type": "code",
   "execution_count": 21,
   "metadata": {},
   "outputs": [],
   "source": [
    "class User():\n",
    "    \n",
    "    def __init__(self, first_name, last_name):\n",
    "        self.fn = first_name\n",
    "        self.ln = last_name\n",
    "        self.attempts = 0\n",
    "    def describe_self(self):\n",
    "        print(self.fn.title() + self.ln.title() + \"is a user of this site!\")\n",
    "    \n",
    "    def greet_user(self):\n",
    "        print(\"Thanks For Coming\" + self.fn.title() + self.ln.title() + '!') \n",
    "        \n",
    "    def login_attempts(self, attempts):\n",
    "        if attempts >= self.attempts:\n",
    "            self.attempts = +1\n",
    "        else:\n",
    "            self.attempts = 0\n",
    "\n",
    "class Admin():\n",
    "\n",
    "    def __init__(self, show_privliages):\n",
    "        self.pri = show_priviliages\n",
    "        \n",
    "Privliages = {\n",
    "    'can ban user'\n",
    "    'can delete posts'\n",
    "}\n",
    "\n"
   ]
  },
  {
   "cell_type": "code",
   "execution_count": 22,
   "metadata": {},
   "outputs": [
    {
     "ename": "NameError",
     "evalue": "name 'self' is not defined",
     "output_type": "error",
     "traceback": [
      "\u001b[1;31m---------------------------------------------------------------------------\u001b[0m",
      "\u001b[1;31mNameError\u001b[0m                                 Traceback (most recent call last)",
      "\u001b[1;32m<ipython-input-22-f89b8528e60c>\u001b[0m in \u001b[0;36m<module>\u001b[1;34m\u001b[0m\n\u001b[1;32m----> 1\u001b[1;33m \u001b[0mprint\u001b[0m\u001b[1;33m(\u001b[0m\u001b[0mself\u001b[0m\u001b[1;33m.\u001b[0m\u001b[0mpri\u001b[0m\u001b[1;33m.\u001b[0m\u001b[0mtitle\u001b[0m\u001b[1;33m(\u001b[0m\u001b[1;33m)\u001b[0m\u001b[1;33m)\u001b[0m\u001b[1;33m\u001b[0m\u001b[1;33m\u001b[0m\u001b[0m\n\u001b[0m",
      "\u001b[1;31mNameError\u001b[0m: name 'self' is not defined"
     ]
    }
   ],
   "source": [
    "print(self.pri.title())"
   ]
  },
  {
   "cell_type": "code",
   "execution_count": null,
   "metadata": {},
   "outputs": [],
   "source": [
    "9-8"
   ]
  },
  {
   "cell_type": "code",
   "execution_count": 23,
   "metadata": {},
   "outputs": [],
   "source": [
    "class User():\n",
    "    \n",
    "    def __init__(self, first_name, last_name):\n",
    "        self.fn = first_name\n",
    "        self.ln = last_name\n",
    "        self.attempts = 0\n",
    "    def describe_self(self):\n",
    "        print(self.fn.title() + self.ln.title() + \"is a user of this site!\")\n",
    "    \n",
    "    def greet_user(self):\n",
    "        print(\"Thanks For Coming\" + self.fn.title() + self.ln.title() + '!') \n",
    "        \n",
    "    def login_attempts(self, attempts):\n",
    "        if attempts >= self.attempts:\n",
    "            self.attempts = +1\n",
    "        else:\n",
    "            self.attempts = 0\n",
    "\n",
    "class Admin():\n",
    "\n",
    "    def __init__(self, show_privliages):\n",
    "        self.pri = show_priviliages\n",
    "        \n",
    "Privliages = {\n",
    "    'can ban user'\n",
    "    'can delete posts'\n",
    "}\n",
    "\n",
    "class Mod():\n",
    "    def __init__(self, show_privliage):\n",
    "        self.pri = show_priviliage\n",
    "        \n",
    "priviliage = {\n",
    "    'can delete posts'\n",
    "    'can mute'\n",
    "}\n",
    "\n"
   ]
  },
  {
   "cell_type": "code",
   "execution_count": null,
   "metadata": {},
   "outputs": [],
   "source": [
    "print(self.pri.title())"
   ]
  },
  {
   "cell_type": "code",
   "execution_count": null,
   "metadata": {},
   "outputs": [],
   "source": [
    "9-9"
   ]
  },
  {
   "cell_type": "code",
   "execution_count": 15,
   "metadata": {},
   "outputs": [
    {
     "name": "stdout",
     "output_type": "stream",
     "text": [
      "2016 Audi A4\n",
      "2016 Tesla Model S\n",
      "This car has a 70-kWh battery.\n",
      "This car can go approximately 240 miles on a full charge.\n"
     ]
    }
   ],
   "source": [
    "class Car():\n",
    "\n",
    "    def __init__(self, make, model, year):         \n",
    "        self.make = make        \n",
    "        self.model = model        \n",
    "        self.year = year             \n",
    "        \n",
    "    def get_descriptive_name(self):        \n",
    "        long_name = str(self.year) + ' ' + self.make + ' ' + self.model        \n",
    "        return long_name.title()    \n",
    "        \n",
    "my_new_car = Car('audi', 'a4', 2016)\n",
    "print(my_new_car.get_descriptive_name())\n",
    "\n",
    "class Battery():   \n",
    "    def __init__(self, battery_size=70):   \n",
    "        self.battery_size = battery_size\n",
    "\n",
    "    def describe_battery(self):       \n",
    "        print(\"This car has a \" + str(self.battery_size) + \"-kWh battery.\")    \n",
    "\n",
    "    def upgrade_battery(self, batery_size): \n",
    "        if battery >= self.batter_size:\n",
    "            battery = 85   \n",
    "        \n",
    "    def get_range(self):       \n",
    "        if self.battery_size == 70:            \n",
    "            range = 240        \n",
    "        elif self.battery_size == 85:          \n",
    "            range = 270                   \n",
    "            \n",
    "        message = \"This car can go approximately \" + str(range)       \n",
    "        message += \" miles on a full charge.\"        \n",
    "        print(message)    \n",
    "        \n",
    "        \n",
    "class ElectricCar(Car):  \n",
    "\n",
    "    def __init__(self, make, model, year):       \n",
    "        super().__init__(make, model, year)        \n",
    "        self.battery = Battery() \n",
    "        \n",
    "        self.battery_size = 70        \n",
    "            \n",
    "    def describe_battery(self):        \n",
    "        print(\"This car has a \" + str(self.battery_size) + \"-kWh battery.\")\n",
    "\n",
    "my_tesla = ElectricCar('tesla', 'model s', 2016)\n",
    "print(my_tesla.get_descriptive_name())\n",
    "my_tesla.battery.describe_battery()\n",
    "my_tesla.battery.get_range()"
   ]
  },
  {
   "cell_type": "code",
   "execution_count": null,
   "metadata": {},
   "outputs": [],
   "source": [
    "9-10"
   ]
  },
  {
   "cell_type": "code",
   "execution_count": null,
   "metadata": {},
   "outputs": [],
   "source": [
    "import restaurant"
   ]
  },
  {
   "cell_type": "code",
   "execution_count": null,
   "metadata": {},
   "outputs": [],
   "source": [
    "9-11"
   ]
  },
  {
   "cell_type": "code",
   "execution_count": null,
   "metadata": {},
   "outputs": [],
   "source": [
    "import Admin from User\n",
    "\n",
    "print show_privileges()"
   ]
  },
  {
   "cell_type": "code",
   "execution_count": null,
   "metadata": {},
   "outputs": [],
   "source": [
    "9-12"
   ]
  },
  {
   "cell_type": "code",
   "execution_count": 1,
   "metadata": {},
   "outputs": [
    {
     "ename": "SyntaxError",
     "evalue": "invalid syntax (<ipython-input-1-31a65406b40c>, line 4)",
     "output_type": "error",
     "traceback": [
      "\u001b[1;36m  File \u001b[1;32m\"<ipython-input-1-31a65406b40c>\"\u001b[1;36m, line \u001b[1;32m4\u001b[0m\n\u001b[1;33m    print show_privileges()\u001b[0m\n\u001b[1;37m                        ^\u001b[0m\n\u001b[1;31mSyntaxError\u001b[0m\u001b[1;31m:\u001b[0m invalid syntax\n"
     ]
    }
   ],
   "source": [
    "import Admin\n",
    "import privileges\n",
    "\n",
    "print show_privileges()"
   ]
  },
  {
   "cell_type": "code",
   "execution_count": 2,
   "metadata": {},
   "outputs": [
    {
     "data": {
      "text/plain": [
       "-4"
      ]
     },
     "execution_count": 2,
     "metadata": {},
     "output_type": "execute_result"
    }
   ],
   "source": [
    "9-13"
   ]
  },
  {
   "cell_type": "code",
   "execution_count": 10,
   "metadata": {},
   "outputs": [
    {
     "name": "stdout",
     "output_type": "stream",
     "text": [
      "Dictionaty: Dictionary Is Wrapped In Braces, {}, With A Series Of Keyvalue Pairs Inside The Braces!\n",
      "Value: A Word/Term Asssoicated With A Function/Key!\n",
      "In-Put: What The User/Programer Puts In That Gets Manipulated/Changed From The Code!\n",
      "Out-Put: What The User/Progermer Gets From A Coding Program!\n",
      "Key: Each Key Is Connected To A Value, And You Can Use A Key To Access The Value Associated With That Key. !\n",
      "Loop: Repets A String Of Code Till Told Other Wise!\n",
      "Indentation: The Nessiaary Spacing Between Code For Tree Based Structures!\n",
      "Set: Warps Around A Group Of Items & Dupiliates Them!\n",
      "Python: A Type Of Coding Language That Has Many Versions, Its Current Version Is 3!\n",
      "Jupyter Notebook: A Program That Places Coding Into Itself & Can Be Exported!\n"
     ]
    }
   ],
   "source": [
    "class OrderedDict():\n",
    "\n",
    "     def __init__(self, name, definition):\n",
    "            self.nam = name\n",
    "            self.defi = defintion\n",
    "            \n",
    "\n",
    "    \n",
    "Definitions = {\n",
    "    'Dictionary': 'Dictionaty: dictionary is wrapped in braces, {}, with a series of keyvalue pairs inside the braces',\n",
    "    'Value': 'Value: A word/term asssoicated with a function/key',\n",
    "    'In-Put': 'In-Put: What the user/programer puts in that gets manipulated/changed from the code',\n",
    "    'Out-put' : 'Out-Put: What the user/progermer gets from a coding program',\n",
    "    'key': 'Key: Each key is connected to a value, and you can use a key to access the value associated with that key. ',\n",
    "    'loop':'loop: repets a string of code till told other wise',\n",
    "    'indentation' : 'Indentation: the nessiaary spacing between code for tree based structures',\n",
    "    'set':'Set: warps around a group of items & dupiliates them',\n",
    "    'python' : 'Python: A type of coding language that has many versions, its current version is 3',\n",
    "    'jupyter' : 'Jupyter Notebook: A program that places coding into itself & can be exported', }\n",
    "\n",
    "for name in (Definitions.keys()): \n",
    "        print(Definitions[name].title() + \"!\")"
   ]
  },
  {
   "cell_type": "code",
   "execution_count": null,
   "metadata": {},
   "outputs": [],
   "source": []
  }
 ],
 "metadata": {
  "kernelspec": {
   "display_name": "Python 3",
   "language": "python",
   "name": "python3"
  },
  "language_info": {
   "codemirror_mode": {
    "name": "ipython",
    "version": 3
   },
   "file_extension": ".py",
   "mimetype": "text/x-python",
   "name": "python",
   "nbconvert_exporter": "python",
   "pygments_lexer": "ipython3",
   "version": "3.7.4"
  }
 },
 "nbformat": 4,
 "nbformat_minor": 2
}
