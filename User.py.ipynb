{
 "cells": [
  {
   "cell_type": "code",
   "execution_count": null,
   "metadata": {},
   "outputs": [],
   "source": [
    "class User():\n",
    "    \n",
    "    def __init__(self, first_name, last_name):\n",
    "        self.fn = first_name\n",
    "        self.ln = last_name\n",
    "        self.attempts = 0\n",
    "    def describe_self(self):\n",
    "        print(self.fn.title() + self.ln.title() + \"is a user of this site!\")\n",
    "    \n",
    "    def greet_user(self):\n",
    "        print(\"Thanks For Coming\" + self.fn.title() + self.ln.title() + '!') \n",
    "        \n",
    "    def login_attempts(self, attempts):\n",
    "        if attempts >= self.attempts:\n",
    "            self.attempts = +1\n",
    "        else:\n",
    "            self.attempts = 0\n",
    "\n",
    "class Admin():\n",
    "\n",
    "    def __init__(self, show_privliages):\n",
    "        self.pri = show_priviliages\n",
    "        \n",
    "Privliages = {\n",
    "    'can ban user'\n",
    "    'can delete posts'\n",
    "}\n",
    "\n",
    "class Mod():\n",
    "    def __init__(self, show_privliage):\n",
    "        self.pri = show_priviliage\n",
    "        \n",
    "priviliage = {\n",
    "    'can delete posts'\n",
    "    'can mute'\n",
    "}"
   ]
  },
  {
   "cell_type": "code",
   "execution_count": null,
   "metadata": {},
   "outputs": [],
   "source": []
  }
 ],
 "metadata": {
  "kernelspec": {
   "display_name": "Python 3",
   "language": "python",
   "name": "python3"
  },
  "language_info": {
   "codemirror_mode": {
    "name": "ipython",
    "version": 3
   },
   "file_extension": ".py",
   "mimetype": "text/x-python",
   "name": "python",
   "nbconvert_exporter": "python",
   "pygments_lexer": "ipython3",
   "version": "3.7.4"
  }
 },
 "nbformat": 4,
 "nbformat_minor": 2
}
