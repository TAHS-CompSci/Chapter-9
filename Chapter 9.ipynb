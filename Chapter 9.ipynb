{
 "cells": [
  {
   "cell_type": "code",
   "execution_count": 1,
   "metadata": {},
   "outputs": [
    {
     "name": "stdout",
     "output_type": "stream",
     "text": [
      "\n",
      "String: A series of characters\n",
      "\n",
      "Comment: A note in a program that the Python interpreter ignores.\n",
      "\n",
      "List: A collection of items in a particular order.\n",
      "\n",
      "Loop: Work through a collection of items, one at a time.\n",
      "\n",
      "Dictionary: a collection of key-value pairs.\n",
      "\n",
      "Key: The first item in a key-value pair dictionary.\n",
      "\n",
      "Value: An item associated with a key in a dictionary.\n",
      "\n",
      "Conditional Test: A test to see a comparison between two values.\n",
      "\n",
      "Float: A numerical value with a decimal component.\n",
      "\n",
      "Boolean Expression: An expression that evaluates either True or False.\n"
     ]
    }
   ],
   "source": [
    "from collections import OrderedDict\n",
    "\n",
    "\"\"\"\n",
    "Program Name: OrderedDict Rewrite.py\n",
    "Programmer Name: Adam Elkins\n",
    "Description: a rewirte of a dictionary of key terms of programning \n",
    "\"\"\"\n",
    "glossary = OrderedDict()\n",
    "\n",
    "glossary['string'] = 'A series of characters'\n",
    "glossary['comment'] = 'A note in a program that the Python interpreter ignores.'\n",
    "glossary['list'] = 'A collection of items in a particular order.'\n",
    "glossary['loop'] = 'Work through a collection of items, one at a time.'\n",
    "glossary['dictionary'] = 'a collection of key-value pairs.'\n",
    "glossary['key'] = 'The first item in a key-value pair dictionary.'\n",
    "glossary['value'] = 'An item associated with a key in a dictionary.'\n",
    "glossary['conditional test'] = 'A test to see a comparison between two values.'\n",
    "glossary['float'] = 'A numerical value with a decimal component.'\n",
    "glossary['boolean expression'] = 'An expression that evaluates either True or False.'\n",
    "\n",
    "for word, definition in glossary.items():\n",
    "    print(\"\\n\" + word.title() + \": \" + definition)"
   ]
  },
  {
   "cell_type": "code",
   "execution_count": null,
   "metadata": {},
   "outputs": [],
   "source": []
  },
  {
   "cell_type": "code",
   "execution_count": null,
   "metadata": {},
   "outputs": [],
   "source": []
  }
 ],
 "metadata": {
  "kernelspec": {
   "display_name": "Python 3",
   "language": "python",
   "name": "python3"
  },
  "language_info": {
   "codemirror_mode": {
    "name": "ipython",
    "version": 3
   },
   "file_extension": ".py",
   "mimetype": "text/x-python",
   "name": "python",
   "nbconvert_exporter": "python",
   "pygments_lexer": "ipython3",
   "version": "3.7.4"
  }
 },
 "nbformat": 4,
 "nbformat_minor": 2
}
