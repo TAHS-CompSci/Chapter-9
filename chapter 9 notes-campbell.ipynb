{
 "cells": [
  {
   "cell_type": "code",
   "execution_count": 1,
   "metadata": {},
   "outputs": [],
   "source": [
    "#Class: Represents an object & tags can effect calls\n",
    "#example given bellow"
   ]
  },
  {
   "cell_type": "code",
   "execution_count": 1,
   "metadata": {},
   "outputs": [],
   "source": [
    "class Dog(): \n",
    "    \"\"\"A simple attempt to model a dog.\"\"\"    \n",
    "        \n",
    "    def __init__(self, name, age):        \n",
    "        \"\"\"Initialize name and age attributes.\"\"\" \n",
    "        self.name = name        \n",
    "        self.age = age   \n",
    "    \n",
    "    def sit(self):        \n",
    "        \"\"\"Simulate a dog sitting in response to a command.\"\"\"        \n",
    "        print(self.name.title() + \" is now sitting.\")\n",
    "                \n",
    "    def roll_over(self):       \n",
    "        \"\"\"Simulate rolling over in response to a command.\"\"\"        \n",
    "        print(self.name.title() + \" rolled over!\")"
   ]
  },
  {
   "cell_type": "code",
   "execution_count": 2,
   "metadata": {},
   "outputs": [],
   "source": [
    "#The__init__() method\n",
    "# __init__() method to have three parameters: self, name, and age\n",
    "##Self:Calling the argument into the argument (should automaticly pass)\n",
    "##Name:self.name = name takes the value stored in the parameter name and stores it in the variable name. \n",
    "##Age: Self.age = Hostly does the same as the thing above\n",
    "\n",
    "#you can defind methods by simploy doing name()  [please note, you replace name with the name of the command]"
   ]
  },
  {
   "cell_type": "code",
   "execution_count": 3,
   "metadata": {},
   "outputs": [],
   "source": [
    "#Making instance"
   ]
  },
  {
   "cell_type": "code",
   "execution_count": 8,
   "metadata": {},
   "outputs": [
    {
     "name": "stdout",
     "output_type": "stream",
     "text": [
      "My dog's name is Willie.\n",
      "My dog is 6 years old.\n"
     ]
    }
   ],
   "source": [
    "my_dog = Dog('Willie', 6)\n",
    "\n",
    "print(\"My dog's name is \" + my_dog.name.title() + \".\") \n",
    "print(\"My dog is \" + str(my_dog.age) + \" years old.\")\n"
   ]
  },
  {
   "cell_type": "code",
   "execution_count": 5,
   "metadata": {},
   "outputs": [],
   "source": [
    "#the isntant will be the dogs name & it's age \n",
    "#the code around it is also\n",
    "## The __init__() method has no explicit return statement, \n",
    "##but Python automatically returns an instance representing this object"
   ]
  },
  {
   "cell_type": "code",
   "execution_count": 6,
   "metadata": {},
   "outputs": [],
   "source": [
    "#Accessing Attribute\n",
    "\n",
    "#To access the attributes of an instance, you use dot notation. (Example given bellow)"
   ]
  },
  {
   "cell_type": "code",
   "execution_count": 9,
   "metadata": {},
   "outputs": [
    {
     "data": {
      "text/plain": [
       "'Willie'"
      ]
     },
     "execution_count": 9,
     "metadata": {},
     "output_type": "execute_result"
    }
   ],
   "source": [
    "my_dog.name"
   ]
  },
  {
   "cell_type": "code",
   "execution_count": 10,
   "metadata": {},
   "outputs": [],
   "source": [
    "#this refers to self name associated with \"my_dog\"\n"
   ]
  },
  {
   "cell_type": "code",
   "execution_count": 14,
   "metadata": {},
   "outputs": [],
   "source": [
    "#calling methods\n",
    "#dot method bellow"
   ]
  },
  {
   "cell_type": "code",
   "execution_count": 16,
   "metadata": {},
   "outputs": [
    {
     "name": "stdout",
     "output_type": "stream",
     "text": [
      "Willie is now sitting.\n",
      "Willie rolled over!\n"
     ]
    }
   ],
   "source": [
    "my_dog.sit() \n",
    "my_dog.roll_over()"
   ]
  },
  {
   "cell_type": "code",
   "execution_count": 17,
   "metadata": {},
   "outputs": [],
   "source": [
    "#Multiple Instances\n",
    "##you can create many instants from a class by making a new program using the same class"
   ]
  },
  {
   "cell_type": "code",
   "execution_count": 20,
   "metadata": {},
   "outputs": [
    {
     "name": "stdout",
     "output_type": "stream",
     "text": [
      "My dog's name is Willie.\n",
      "My dog is 6 years old.\n",
      "Willie is now sitting.\n",
      "\n",
      "Your dog's name is Lucy.\n",
      "Your dog is 3 years old.\n",
      "Lucy is now sitting.\n"
     ]
    }
   ],
   "source": [
    "my_dog = Dog('willie', 6) \n",
    "your_dog = Dog('lucy', 3)\n",
    "\n",
    "print(\"My dog's name is \" + my_dog.name.title() + \".\") \n",
    "print(\"My dog is \" + str(my_dog.age) + \" years old.\") \n",
    "my_dog.sit()\n",
    "\n",
    "print(\"\\nYour dog's name is \" + your_dog.name.title() + \".\") \n",
    "print(\"Your dog is \" + str(your_dog.age) + \" years old.\") \n",
    "your_dog.sit()\n"
   ]
  },
  {
   "cell_type": "code",
   "execution_count": 1,
   "metadata": {},
   "outputs": [],
   "source": [
    "#More class examples"
   ]
  },
  {
   "cell_type": "code",
   "execution_count": 3,
   "metadata": {},
   "outputs": [
    {
     "name": "stdout",
     "output_type": "stream",
     "text": [
      "2016 Audi A4\n"
     ]
    }
   ],
   "source": [
    "class Car():\n",
    "\n",
    "    def __init__(self, make, model, year):         \n",
    "        self.make = make        \n",
    "        self.model = model        \n",
    "        self.year = year             \n",
    "        \n",
    "    def get_descriptive_name(self):        \n",
    "        long_name = str(self.year) + ' ' + self.make + ' ' + self.model        \n",
    "        return long_name.title()    \n",
    "        \n",
    "my_new_car = Car('audi', 'a4', 2016)\n",
    "print(my_new_car.get_descriptive_name())\n"
   ]
  },
  {
   "cell_type": "code",
   "execution_count": 4,
   "metadata": {},
   "outputs": [],
   "source": [
    "#this has the parametters fires (make, model, year)\n",
    "## if we make a new car, we will have to respecify make, model, year\n",
    "#get_descriptive_name puts all the attribute into one string"
   ]
  },
  {
   "cell_type": "code",
   "execution_count": 5,
   "metadata": {},
   "outputs": [],
   "source": [
    "#you can set defult values for attributes"
   ]
  },
  {
   "cell_type": "code",
   "execution_count": 10,
   "metadata": {},
   "outputs": [
    {
     "name": "stdout",
     "output_type": "stream",
     "text": [
      "2013 Subaru Outback\n",
      "This car has 100 miles on it.\n",
      "2016 Audi A4\n",
      "This car has 0 miles on it.\n",
      "This car has 23500 miles on it.\n"
     ]
    }
   ],
   "source": [
    "class Car():\n",
    "\n",
    "    def __init__(self, make, model, year):         \n",
    "        self.make = make        \n",
    "        self.model = model        \n",
    "        self.year = year             \n",
    "        self.odometer_reading = 0\n",
    "        \n",
    "    def get_descriptive_name(self):        \n",
    "        long_name = str(self.year) + ' ' + self.make + ' ' + self.model        \n",
    "        return long_name.title()    \n",
    "        \n",
    "    def read_odometer(self):              \n",
    "        print(\"This car has \" + str(self.odometer_reading) + \" miles on it.\") \n",
    "        \n",
    "    def update_odometer(self, mileage): \n",
    "        if mileage >= self.odometer_reading:\n",
    "            self.odometer_reading = mileage\n",
    "        else:\n",
    "            print(\"You can't roll back an odometer\")\n",
    "            \n",
    "    def increment_odometer(self, miles):  \n",
    "        self.odometer_reading += miles \n",
    "        \n",
    "my_used_car = Car('subaru', 'outback', 2013) \n",
    "print(my_used_car.get_descriptive_name())\n",
    "  \n",
    "my_used_car.increment_odometer(100) \n",
    "my_used_car.read_odometer()    \n",
    "    \n",
    "my_new_car = Car('audi', 'a4', 2016)\n",
    "print(my_new_car.get_descriptive_name())\n",
    "my_new_car.read_odometer()\n",
    "\n",
    "my_new_car.update_odometer(23500)\n",
    "my_new_car.read_odometer()\n",
    "\n"
   ]
  },
  {
   "cell_type": "code",
   "execution_count": 2,
   "metadata": {},
   "outputs": [],
   "source": [
    "#you can change the attribute value by chaning the number after (self.odometer_reading = )\n",
    "# i also provide a second alternative in the (my_new_car.update_odometer())"
   ]
  },
  {
   "cell_type": "code",
   "execution_count": 3,
   "metadata": {},
   "outputs": [],
   "source": [
    "#values can be increamenting\n",
    "#example has bee added to the part above."
   ]
  },
  {
   "cell_type": "code",
   "execution_count": 11,
   "metadata": {},
   "outputs": [],
   "source": [
    "#importing classes\n",
    "#if you can make your cold a .py file, you can have other files import it in to use (which i will now do)"
   ]
  },
  {
   "cell_type": "code",
   "execution_count": 3,
   "metadata": {},
   "outputs": [
    {
     "ename": "ModuleNotFoundError",
     "evalue": "No module named 'car'",
     "output_type": "error",
     "traceback": [
      "\u001b[1;31m---------------------------------------------------------------------------\u001b[0m",
      "\u001b[1;31mModuleNotFoundError\u001b[0m                       Traceback (most recent call last)",
      "\u001b[1;32m<ipython-input-3-79bc1965cf5c>\u001b[0m in \u001b[0;36m<module>\u001b[1;34m\u001b[0m\n\u001b[1;32m----> 1\u001b[1;33m \u001b[1;32mfrom\u001b[0m \u001b[0mcar\u001b[0m \u001b[1;32mimport\u001b[0m \u001b[0mcar\u001b[0m\u001b[1;33m\u001b[0m\u001b[1;33m\u001b[0m\u001b[0m\n\u001b[0m\u001b[0;32m      2\u001b[0m \u001b[1;33m\u001b[0m\u001b[0m\n\u001b[0;32m      3\u001b[0m \u001b[0mmy_new_car\u001b[0m \u001b[1;33m=\u001b[0m \u001b[0mcar\u001b[0m\u001b[1;33m(\u001b[0m\u001b[1;34m'audi'\u001b[0m\u001b[1;33m,\u001b[0m \u001b[1;34m'a4'\u001b[0m\u001b[1;33m,\u001b[0m \u001b[1;36m2016\u001b[0m\u001b[1;33m)\u001b[0m\u001b[1;33m\u001b[0m\u001b[1;33m\u001b[0m\u001b[0m\n\u001b[0;32m      4\u001b[0m \u001b[0mprint\u001b[0m\u001b[1;33m(\u001b[0m\u001b[0mmy_new_car\u001b[0m\u001b[1;33m.\u001b[0m\u001b[0mget_descriptive_name\u001b[0m\u001b[1;33m(\u001b[0m\u001b[1;33m)\u001b[0m\u001b[1;33m)\u001b[0m\u001b[1;33m\u001b[0m\u001b[1;33m\u001b[0m\u001b[0m\n\u001b[0;32m      5\u001b[0m \u001b[1;33m\u001b[0m\u001b[0m\n",
      "\u001b[1;31mModuleNotFoundError\u001b[0m: No module named 'car'"
     ]
    }
   ],
   "source": [
    "from car import Car\n",
    "    \n",
    "my_new_car = car('audi', 'a4', 2016) \n",
    "print(my_new_car.get_descriptive_name())\n",
    "\n",
    "my_new_car.odometer_reading = 23 \n",
    "my_new_car.read_odometer()\n"
   ]
  },
  {
   "cell_type": "code",
   "execution_count": null,
   "metadata": {},
   "outputs": [],
   "source": [
    "##SKIP THIS FOR NOW\n"
   ]
  },
  {
   "cell_type": "code",
   "execution_count": null,
   "metadata": {},
   "outputs": [],
   "source": [
    "#Inheritance\n",
    "#You can create a child class from a regular class\n",
    "#to do this tou need to do [ __init__() ]"
   ]
  },
  {
   "cell_type": "code",
   "execution_count": null,
   "metadata": {},
   "outputs": [],
   "source": [
    "class Car():\n",
    "\n",
    "    def __init__(self, make, model, year):         \n",
    "        self.make = make        \n",
    "        self.model = model        \n",
    "        self.year = year             \n",
    "        \n",
    "    def get_descriptive_name(self):        \n",
    "        long_name = str(self.year) + ' ' + self.make + ' ' + self.model        \n",
    "        return long_name.title()    \n",
    "        \n",
    "my_new_car = Car('audi', 'a4', 2016)\n",
    "print(my_new_car.get_descriptive_name())\n",
    "\n",
    "class Battery():    \"\"\"A simple attempt to model a battery for an electric car.\"\"\"   \n",
    "    def __init__(self, battery_size=70):   \n",
    "        self.battery_size = battery_size\n",
    "\n",
    "    def describe_battery(self):       \n",
    "        print(\"This car has a \" + str(self.battery_size) + \"-kWh battery.\")    \n",
    "\n",
    "    def get_range(self):       \n",
    "        if self.battery_size == 70:            \n",
    "            range = 240        \n",
    "        elif self.battery_size == 85:          \n",
    "            range = 270                   \n",
    "            \n",
    "        message = \"This car can go approximately \" + str(range)       \n",
    "        message += \" miles on a full charge.\"        \n",
    "        print(message)    \n",
    "        \n",
    "        \n",
    "class ElectricCar(Car):  \n",
    "\n",
    "    def __init__(self, make, model, year):       \n",
    "        super().__init__(make, model, year)        \n",
    "         self.battery = Battery() \n",
    "        \n",
    "         self.battery_size = 70        \n",
    "            \n",
    "    def describe_battery(self):        \n",
    "        print(\"This car has a \" + str(self.battery_size) + \"-kWh battery.\")\n",
    "\n",
    "my_tesla = ElectricCar('tesla', 'model s', 2016)\n",
    "print(my_tesla.get_descriptive_name())\n",
    "my_tesla.battery.describe_battery()\n",
    "my_tesla.battery.get_range()"
   ]
  },
  {
   "cell_type": "code",
   "execution_count": 1,
   "metadata": {},
   "outputs": [],
   "source": [
    "#standard library\n",
    "##dictionaries can allows you to collect pieces of infomration & keep track of key-value pairs"
   ]
  },
  {
   "cell_type": "code",
   "execution_count": 2,
   "metadata": {},
   "outputs": [
    {
     "name": "stdout",
     "output_type": "stream",
     "text": [
      "Jen's favorite language is Python.\n",
      "Sarah's favorite language is C.\n",
      "Edward's favorite language is Ruby.\n",
      "Phil's favorite language is Python.\n"
     ]
    }
   ],
   "source": [
    " from collections import OrderedDict \n",
    "favorite_languages = OrderedDict()\n",
    "\n",
    "favorite_languages['jen'] = 'python' \n",
    "favorite_languages['sarah'] = 'c' \n",
    "favorite_languages['edward'] = 'ruby' \n",
    "favorite_languages['phil'] = 'python'\n",
    "\n",
    "for name, language in favorite_languages.items():    \n",
    "    print(name.title() + \"'s favorite language is \" +        \n",
    "          language.title() + \".\")\n"
   ]
  },
  {
   "cell_type": "code",
   "execution_count": null,
   "metadata": {},
   "outputs": [],
   "source": []
  }
 ],
 "metadata": {
  "kernelspec": {
   "display_name": "Python 3",
   "language": "python",
   "name": "python3"
  },
  "language_info": {
   "codemirror_mode": {
    "name": "ipython",
    "version": 3
   },
   "file_extension": ".py",
   "mimetype": "text/x-python",
   "name": "python",
   "nbconvert_exporter": "python",
   "pygments_lexer": "ipython3",
   "version": "3.7.4"
  }
 },
 "nbformat": 4,
 "nbformat_minor": 2
}
