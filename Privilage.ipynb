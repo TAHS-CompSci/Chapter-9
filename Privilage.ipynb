{
 "cells": [
  {
   "cell_type": "code",
   "execution_count": null,
   "metadata": {},
   "outputs": [],
   "source": [
    "class Admin():\n",
    "\n",
    "    def __init__(self, show_privliages):\n",
    "        self.pri = show_priviliages\n",
    "        \n",
    "Privliages = {\n",
    "    'can ban user'\n",
    "    'can delete posts'\n",
    "}\n",
    "\n",
    "\n",
    "priviliage = {\n",
    "    'can delete posts'\n",
    "    'can mute'\n",
    "}"
   ]
  }
 ],
 "metadata": {
  "kernelspec": {
   "display_name": "Python 3",
   "language": "python",
   "name": "python3"
  },
  "language_info": {
   "codemirror_mode": {
    "name": "ipython",
    "version": 3
   },
   "file_extension": ".py",
   "mimetype": "text/x-python",
   "name": "python",
   "nbconvert_exporter": "python",
   "pygments_lexer": "ipython3",
   "version": "3.7.4"
  }
 },
 "nbformat": 4,
 "nbformat_minor": 2
}
