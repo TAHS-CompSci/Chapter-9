{
 "cells": [
  {
   "cell_type": "code",
   "execution_count": 2,
   "metadata": {},
   "outputs": [],
   "source": [
    "class Car():    \n",
    "\n",
    "    \n",
    "    def __init__(self, make, model, year):          \n",
    "        self.make = make        \n",
    "        self.model = model        \n",
    "        self.year = year        \n",
    "        self.odometer_reading = 0            \n",
    "        \n",
    "    def get_descriptive_name(self):            \n",
    "        long_name = str(self.year) + ' ' + self.make + ' ' + self.model \n",
    "        return long_name.title()        \n",
    "    \n",
    "    def read_odometer(self):              \n",
    "        print(\"This car has \" + str(self.odometer_reading) + \" miles on it.\")           \n",
    "        if mileage >= self.odometer_reading:           \n",
    "            self.odometer_reading = mileage       \n",
    "        else:            \n",
    "            print(\"You can't roll back an odometer!\")       \n",
    "    def increment_odometer(self, miles):           \n",
    "        self.odometer_reading += miles"
   ]
  },
  {
   "cell_type": "code",
   "execution_count": null,
   "metadata": {},
   "outputs": [],
   "source": []
  }
 ],
 "metadata": {
  "kernelspec": {
   "display_name": "Python 3",
   "language": "python",
   "name": "python3"
  },
  "language_info": {
   "codemirror_mode": {
    "name": "ipython",
    "version": 3
   },
   "file_extension": ".py",
   "mimetype": "text/x-python",
   "name": "python",
   "nbconvert_exporter": "python",
   "pygments_lexer": "ipython3",
   "version": "3.7.4"
  }
 },
 "nbformat": 4,
 "nbformat_minor": 2
}
