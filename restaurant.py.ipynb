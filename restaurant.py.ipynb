{
 "cells": [
  {
   "cell_type": "code",
   "execution_count": null,
   "metadata": {},
   "outputs": [],
   "source": [
    "class Restaurant():   \n",
    "        \n",
    "    def __init__(self, resturant_name, cuisine_type): \n",
    "        self.name = resturant_name        \n",
    "        self.menu = cuisine_type  \n",
    "        self.served= 0\n",
    "        \n",
    "    def read_served(self):              \n",
    "        print(\"This Restaurant Has Served \" + str(self.served) + \" People!\")    \n",
    "    \n",
    "    def update_served(self, served): \n",
    "        if served >= self.served:\n",
    "            self.serve = served\n",
    "        else:\n",
    "            print(\"No One Has Been Surved\")\n",
    "            \n",
    "    def increment_served(self, surved):  \n",
    "        self.served += surved\n",
    "    \n",
    "    def open(self):       \n",
    "        print(self.name.title() + \" is now open.\")\n",
    "        \n",
    "Huberta = Restaurant(' Huberta', 'Onion',)\n",
    "\n",
    "print(\"We Are Called\"  +  Huberta.name.title() + \".\") \n",
    "print(\"Our Menu has \" + str(Huberta.menu) + \".\")\n",
    "\n",
    "Huberta.update_served(48)\n",
    "\n",
    "\n",
    "Huberta.increment_served(19) \n"
   ]
  }
 ],
 "metadata": {
  "kernelspec": {
   "display_name": "Python 3",
   "language": "python",
   "name": "python3"
  },
  "language_info": {
   "codemirror_mode": {
    "name": "ipython",
    "version": 3
   },
   "file_extension": ".py",
   "mimetype": "text/x-python",
   "name": "python",
   "nbconvert_exporter": "python",
   "pygments_lexer": "ipython3",
   "version": "3.7.4"
  }
 },
 "nbformat": 4,
 "nbformat_minor": 2
}
